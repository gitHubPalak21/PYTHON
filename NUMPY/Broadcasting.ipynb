{
 "cells": [
  {
   "cell_type": "markdown",
   "id": "6059ab30-1050-4789-89cb-be409429c218",
   "metadata": {},
   "source": [
    "# BROADCASTING"
   ]
  },
  {
   "cell_type": "code",
   "execution_count": 1,
   "id": "f6adf6be-3007-4e7a-9899-a185278d82af",
   "metadata": {},
   "outputs": [],
   "source": [
    "import numpy as np"
   ]
  },
  {
   "cell_type": "code",
   "execution_count": 3,
   "id": "66932f15-27c1-486c-9427-dae1eea96101",
   "metadata": {},
   "outputs": [
    {
     "name": "stdout",
     "output_type": "stream",
     "text": [
      "[[ 0  2  4]\n",
      " [ 3  5  7]\n",
      " [ 6  8 10]\n",
      " [ 9 11 13]]\n"
     ]
    }
   ],
   "source": [
    "arr1= np.arange(3).reshape(1,3)\n",
    "arr2=np.arange(12).reshape(4,3)\n",
    "print(arr1+arr2)"
   ]
  },
  {
   "cell_type": "markdown",
   "id": "c1405434-4f8e-471f-b1ae-415b0c82f193",
   "metadata": {},
   "source": [
    "# some more functions of numpy"
   ]
  },
  {
   "cell_type": "code",
   "execution_count": 7,
   "id": "9a7bdc7c-be78-4e89-bff2-6b841b2a5aa9",
   "metadata": {},
   "outputs": [
    {
     "data": {
      "text/plain": [
       "0.6064998642068273"
      ]
     },
     "execution_count": 7,
     "metadata": {},
     "output_type": "execute_result"
    }
   ],
   "source": [
    "np.random.random()"
   ]
  },
  {
   "cell_type": "code",
   "execution_count": 17,
   "id": "7035b0d2-ed4e-417e-b139-72a7dbf26538",
   "metadata": {},
   "outputs": [
    {
     "data": {
      "text/plain": [
       "0.417022004702574"
      ]
     },
     "execution_count": 17,
     "metadata": {},
     "output_type": "execute_result"
    }
   ],
   "source": [
    "np.random.seed(1)\n",
    "np.random.random()"
   ]
  },
  {
   "cell_type": "code",
   "execution_count": 19,
   "id": "e05d37b5-0081-46b5-9022-145da9bd392f",
   "metadata": {},
   "outputs": [
    {
     "data": {
      "text/plain": [
       "8.042271454095108"
      ]
     },
     "execution_count": 19,
     "metadata": {},
     "output_type": "execute_result"
    }
   ],
   "source": [
    "np.random.uniform(3,10)"
   ]
  },
  {
   "cell_type": "code",
   "execution_count": 23,
   "id": "3779b020-0cc3-4303-b887-85013e495ea6",
   "metadata": {},
   "outputs": [
    {
     "data": {
      "text/plain": [
       "array([[21.24077272, 87.9336262 ,  3.71137173, 67.37628351, 42.31317543],\n",
       "       [56.31029302, 14.89830692, 20.61204742, 80.2737123 , 96.857896  ]])"
      ]
     },
     "execution_count": 23,
     "metadata": {},
     "output_type": "execute_result"
    }
   ],
   "source": [
    "np.random.uniform(1,100,10).reshape(2,5)"
   ]
  },
  {
   "cell_type": "code",
   "execution_count": 27,
   "id": "44a2688e-8b3e-4966-a796-c3ac4b71eb1f",
   "metadata": {},
   "outputs": [
    {
     "data": {
      "text/plain": [
       "7"
      ]
     },
     "execution_count": 27,
     "metadata": {},
     "output_type": "execute_result"
    }
   ],
   "source": [
    "np.random.randint(1,10)"
   ]
  },
  {
   "cell_type": "code",
   "execution_count": 29,
   "id": "f94d77ef-5a46-47d0-a8c6-e8106a897d74",
   "metadata": {},
   "outputs": [
    {
     "data": {
      "text/plain": [
       "array([2, 1, 2, 9, 9])"
      ]
     },
     "execution_count": 29,
     "metadata": {},
     "output_type": "execute_result"
    }
   ],
   "source": [
    "np.random.randint(1,10,5)"
   ]
  },
  {
   "cell_type": "code",
   "execution_count": 41,
   "id": "bf02ac84-050e-4ac6-a550-8929b1b98cb6",
   "metadata": {},
   "outputs": [
    {
     "name": "stdout",
     "output_type": "stream",
     "text": [
      "[8 5 6 4 7 9]\n"
     ]
    }
   ],
   "source": [
    "a= np.random.randint(1,10,6)\n",
    "print(a)"
   ]
  },
  {
   "cell_type": "code",
   "execution_count": 43,
   "id": "df8e4a76-de84-4def-b8fc-1f81e96fa1e0",
   "metadata": {},
   "outputs": [
    {
     "data": {
      "text/plain": [
       "9"
      ]
     },
     "execution_count": 43,
     "metadata": {},
     "output_type": "execute_result"
    }
   ],
   "source": [
    "np.max(a)"
   ]
  },
  {
   "cell_type": "code",
   "execution_count": 55,
   "id": "ce6d7533-8869-43a0-82b1-3d6fd1b34816",
   "metadata": {},
   "outputs": [],
   "source": [
    "#it gives the index of minimum \n",
    "number=np.argmax(a)"
   ]
  },
  {
   "cell_type": "code",
   "execution_count": 51,
   "id": "3e2d0734-b207-4948-9609-e1c2de031fdb",
   "metadata": {},
   "outputs": [
    {
     "data": {
      "text/plain": [
       "3"
      ]
     },
     "execution_count": 51,
     "metadata": {},
     "output_type": "execute_result"
    }
   ],
   "source": [
    "np.argmin(a)"
   ]
  },
  {
   "cell_type": "code",
   "execution_count": 63,
   "id": "aff56044-acca-4dc4-bd1b-5582ed16e158",
   "metadata": {},
   "outputs": [
    {
     "data": {
      "text/plain": [
       "array([1, 3, 8, 8, 8, 4])"
      ]
     },
     "execution_count": 63,
     "metadata": {},
     "output_type": "execute_result"
    }
   ],
   "source": [
    "arrs=np.random.randint(1,10,6)\n",
    "arrs"
   ]
  },
  {
   "cell_type": "code",
   "execution_count": 67,
   "id": "97f49fc6-4d47-470a-8693-a65ec6c89d73",
   "metadata": {},
   "outputs": [
    {
     "data": {
      "text/plain": [
       "array([-1, -1,  8,  8,  8,  4])"
      ]
     },
     "execution_count": 67,
     "metadata": {},
     "output_type": "execute_result"
    }
   ],
   "source": [
    "arrs[arrs%2==1]=-1\n",
    "arrs"
   ]
  },
  {
   "cell_type": "code",
   "execution_count": 71,
   "id": "289334c5-894a-4b8a-9694-304354dd2390",
   "metadata": {},
   "outputs": [
    {
     "data": {
      "text/plain": [
       "array([4, 1, 9, 7, 5, 6])"
      ]
     },
     "execution_count": 71,
     "metadata": {},
     "output_type": "execute_result"
    }
   ],
   "source": [
    "#if we use where function it does not directly change the main array it makes a m=copoy out of it and\n",
    "#and the it changes that array\n",
    "arr1=np.random.randint(1,10,6)\n",
    "arr1"
   ]
  },
  {
   "cell_type": "code",
   "execution_count": 79,
   "id": "5263e315-2ad1-42b1-8c43-1876be3c52c9",
   "metadata": {},
   "outputs": [
    {
     "data": {
      "text/plain": [
       "array([ 8, -1, -1, -1, -1,  9])"
      ]
     },
     "execution_count": 79,
     "metadata": {},
     "output_type": "execute_result"
    }
   ],
   "source": [
    "out = np.where(arr1%2==1,-1,a)\n",
    "out"
   ]
  },
  {
   "cell_type": "code",
   "execution_count": 75,
   "id": "0e0ae03e-ff45-4aaa-ab55-5389191ba14f",
   "metadata": {},
   "outputs": [
    {
     "data": {
      "text/plain": [
       "array([ 8, -1, -1, -1, -1,  9])"
      ]
     },
     "execution_count": 75,
     "metadata": {},
     "output_type": "execute_result"
    }
   ],
   "source": [
    "out"
   ]
  },
  {
   "cell_type": "code",
   "execution_count": 77,
   "id": "4fed47c2-4931-4f6c-bc30-c8a07d759c4f",
   "metadata": {},
   "outputs": [
    {
     "data": {
      "text/plain": [
       "array([1, 4, 5, 6, 7, 9])"
      ]
     },
     "execution_count": 77,
     "metadata": {},
     "output_type": "execute_result"
    }
   ],
   "source": [
    "np.sort(arr1)"
   ]
  },
  {
   "cell_type": "code",
   "execution_count": 81,
   "id": "bb37aad6-4e6f-4cc4-95db-01c0f551ee37",
   "metadata": {},
   "outputs": [
    {
     "data": {
      "text/plain": [
       "array([ 7,  3, 13, 28, 22, 12])"
      ]
     },
     "execution_count": 81,
     "metadata": {},
     "output_type": "execute_result"
    }
   ],
   "source": []
  },
  {
   "cell_type": "code",
   "execution_count": null,
   "id": "603f7059-de34-45fd-a417-350899e72c2d",
   "metadata": {},
   "outputs": [],
   "source": []
  }
 ],
 "metadata": {
  "kernelspec": {
   "display_name": "Python [conda env:base] *",
   "language": "python",
   "name": "conda-base-py"
  },
  "language_info": {
   "codemirror_mode": {
    "name": "ipython",
    "version": 3
   },
   "file_extension": ".py",
   "mimetype": "text/x-python",
   "name": "python",
   "nbconvert_exporter": "python",
   "pygments_lexer": "ipython3",
   "version": "3.12.7"
  }
 },
 "nbformat": 4,
 "nbformat_minor": 5
}
