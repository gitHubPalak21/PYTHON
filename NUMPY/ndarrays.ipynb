{
 "cells": [
  {
   "cell_type": "markdown",
   "id": "e6de4afd-8168-4921-b394-79170b909ef9",
   "metadata": {},
   "source": [
    "# create numpy//n-d arrays\n"
   ]
  },
  {
   "cell_type": "code",
   "execution_count": 2,
   "id": "4fbe48a6-fc66-414a-9802-5d72b975fd99",
   "metadata": {},
   "outputs": [
    {
     "name": "stdout",
     "output_type": "stream",
     "text": [
      "[3 4 5 3 2 4]\n"
     ]
    }
   ],
   "source": [
    "import numpy as np\n",
    "arr1 = np.array([3,4,5,3,2,4])\n",
    "print(arr1)"
   ]
  },
  {
   "cell_type": "code",
   "execution_count": 3,
   "id": "ea08f24f-ddb8-4265-a8d5-03e19fd6bd57",
   "metadata": {},
   "outputs": [
    {
     "data": {
      "text/plain": [
       "numpy.ndarray"
      ]
     },
     "execution_count": 3,
     "metadata": {},
     "output_type": "execute_result"
    }
   ],
   "source": [
    "type(arr1)"
   ]
  },
  {
   "cell_type": "code",
   "execution_count": 6,
   "id": "e3d7a8bc-c822-4781-a205-99581f9e1ad9",
   "metadata": {},
   "outputs": [
    {
     "name": "stdout",
     "output_type": "stream",
     "text": [
      "[[3 4 5 3 2 4]\n",
      " [3 4 5 3 2 4]]\n"
     ]
    }
   ],
   "source": [
    "arr2=np.array([[3,4,5,3,2,4],[3,4,5,3,2,4]])\n",
    "print(arr2)"
   ]
  },
  {
   "cell_type": "code",
   "execution_count": 9,
   "id": "e96d8ca2-6e51-4e71-bbbe-0d7391b91aa3",
   "metadata": {},
   "outputs": [
    {
     "data": {
      "text/plain": [
       "array([[0., 0., 0.],\n",
       "       [0., 0., 0.]])"
      ]
     },
     "execution_count": 9,
     "metadata": {},
     "output_type": "execute_result"
    }
   ],
   "source": [
    "arr4=np.zeros((2,3))\n",
    "arr4"
   ]
  },
  {
   "cell_type": "code",
   "execution_count": 11,
   "id": "a8619c19-e475-4a23-a00d-f81b83fa8dac",
   "metadata": {},
   "outputs": [
    {
     "data": {
      "text/plain": [
       "array([[1., 1., 1.],\n",
       "       [1., 1., 1.]])"
      ]
     },
     "execution_count": 11,
     "metadata": {},
     "output_type": "execute_result"
    }
   ],
   "source": [
    "arr4=np.ones((2,3))\n",
    "arr4"
   ]
  },
  {
   "cell_type": "code",
   "execution_count": 12,
   "id": "c1b1fb0a-2897-4a3d-adaa-6a53c973f670",
   "metadata": {},
   "outputs": [
    {
     "name": "stdout",
     "output_type": "stream",
     "text": [
      "[[1. 0. 0. 0. 0. 0.]\n",
      " [0. 1. 0. 0. 0. 0.]\n",
      " [0. 0. 1. 0. 0. 0.]\n",
      " [0. 0. 0. 1. 0. 0.]\n",
      " [0. 0. 0. 0. 1. 0.]\n",
      " [0. 0. 0. 0. 0. 1.]]\n"
     ]
    }
   ],
   "source": [
    "arr5=np.identity(6)\n",
    "print(arr5)"
   ]
  },
  {
   "cell_type": "code",
   "execution_count": 13,
   "id": "49893644-e597-4c14-b56b-c890ef5bcd99",
   "metadata": {},
   "outputs": [
    {
     "data": {
      "text/plain": [
       "array([0, 1, 2, 3, 4, 5, 6, 7, 8])"
      ]
     },
     "execution_count": 13,
     "metadata": {},
     "output_type": "execute_result"
    }
   ],
   "source": [
    "arr=np.arange(9)\n",
    "arr"
   ]
  },
  {
   "cell_type": "code",
   "execution_count": 14,
   "id": "6ab90e94-0be1-4f03-84a7-8b7ed7c74db5",
   "metadata": {},
   "outputs": [
    {
     "data": {
      "text/plain": [
       "array([ 9, 10, 11, 12, 13, 14, 15, 16, 17, 18, 19, 20, 21, 22, 23, 24, 25,\n",
       "       26, 27, 28, 29, 30, 31, 32, 33, 34, 35, 36, 37, 38, 39, 40, 41, 42,\n",
       "       43, 44, 45, 46, 47, 48, 49, 50, 51, 52, 53, 54, 55, 56, 57, 58, 59,\n",
       "       60, 61, 62, 63, 64, 65, 66])"
      ]
     },
     "execution_count": 14,
     "metadata": {},
     "output_type": "execute_result"
    }
   ],
   "source": [
    "arr=np.arange(9,67)\n",
    "arr"
   ]
  },
  {
   "cell_type": "code",
   "execution_count": 15,
   "id": "e36e7714-0d50-4f37-86df-2a9593a1ca11",
   "metadata": {},
   "outputs": [
    {
     "data": {
      "text/plain": [
       "array([ 9, 19, 29, 39, 49, 59])"
      ]
     },
     "execution_count": 15,
     "metadata": {},
     "output_type": "execute_result"
    }
   ],
   "source": [
    "arr=np.arange(9,67,10)\n",
    "arr"
   ]
  },
  {
   "cell_type": "code",
   "execution_count": 18,
   "id": "26b5c7c3-ae63-4ac2-b4bb-c4a2740704b7",
   "metadata": {},
   "outputs": [
    {
     "name": "stdout",
     "output_type": "stream",
     "text": [
      "[10.         11.11111111 12.22222222 13.33333333 14.44444444 15.55555556\n",
      " 16.66666667 17.77777778 18.88888889 20.        ]\n"
     ]
    }
   ],
   "source": [
    "arr7 = np.linspace(10,20,10)\n",
    "print(arr7)"
   ]
  },
  {
   "cell_type": "code",
   "execution_count": 1,
   "id": "cad54eee-602d-4268-a3c8-25be834ec1dd",
   "metadata": {},
   "outputs": [
    {
     "ename": "NameError",
     "evalue": "name 'arr7' is not defined",
     "output_type": "error",
     "traceback": [
      "\u001b[1;31m---------------------------------------------------------------------------\u001b[0m",
      "\u001b[1;31mNameError\u001b[0m                                 Traceback (most recent call last)",
      "Cell \u001b[1;32mIn[1], line 1\u001b[0m\n\u001b[1;32m----> 1\u001b[0m arr8\u001b[38;5;241m=\u001b[39marr7\u001b[38;5;241m.\u001b[39mcopy()\n\u001b[0;32m      2\u001b[0m \u001b[38;5;28mprint\u001b[39m(arr8)\n",
      "\u001b[1;31mNameError\u001b[0m: name 'arr7' is not defined"
     ]
    }
   ],
   "source": [
    "arr8=arr7.copy()\n",
    "print(arr8)"
   ]
  },
  {
   "cell_type": "code",
   "execution_count": null,
   "id": "de459fa2-87e9-433a-abc2-57131abeaa90",
   "metadata": {},
   "outputs": [],
   "source": []
  }
 ],
 "metadata": {
  "kernelspec": {
   "display_name": "Python [conda env:base] *",
   "language": "python",
   "name": "conda-base-py"
  },
  "language_info": {
   "codemirror_mode": {
    "name": "ipython",
    "version": 3
   },
   "file_extension": ".py",
   "mimetype": "text/x-python",
   "name": "python",
   "nbconvert_exporter": "python",
   "pygments_lexer": "ipython3",
   "version": "3.12.7"
  }
 },
 "nbformat": 4,
 "nbformat_minor": 5
}
