{
 "cells": [
  {
   "cell_type": "markdown",
   "id": "ed6eb605-b195-4aa4-b9fc-ef6c37b4ccf6",
   "metadata": {},
   "source": [
    "# lists vs Arrays"
   ]
  },
  {
   "cell_type": "code",
   "execution_count": 32,
   "id": "8585812a-899c-4f2c-b4b8-d97624de77e1",
   "metadata": {},
   "outputs": [],
   "source": [
    "# faster \n",
    "#convinient\n",
    "#lesser mempry"
   ]
  },
  {
   "cell_type": "code",
   "execution_count": 36,
   "id": "500132d9-97e8-4012-8631-f32f46f915c6",
   "metadata": {},
   "outputs": [],
   "source": [
    "#lesser memory\n",
    "import numpy as np\n",
    "lista =range(100)\n",
    "arr1 = np.arange(100)"
   ]
  },
  {
   "cell_type": "code",
   "execution_count": 38,
   "id": "3e066ab7-7a97-4a53-b9ab-4525258a7440",
   "metadata": {},
   "outputs": [],
   "source": [
    "import sys"
   ]
  },
  {
   "cell_type": "code",
   "execution_count": 42,
   "id": "871f409d-abfc-4e15-821f-db8d2aaf8e9f",
   "metadata": {},
   "outputs": [
    {
     "name": "stdout",
     "output_type": "stream",
     "text": [
      "2800\n"
     ]
    }
   ],
   "source": [
    "print(sys.getsizeof(88)*len(lista))"
   ]
  },
  {
   "cell_type": "code",
   "execution_count": 48,
   "id": "ae1ffc1b-78e4-4f28-abd2-9a8424b06da3",
   "metadata": {},
   "outputs": [
    {
     "name": "stdout",
     "output_type": "stream",
     "text": [
      "400\n"
     ]
    }
   ],
   "source": [
    "print(arr1.itemsize*arr1.size)"
   ]
  },
  {
   "cell_type": "code",
   "execution_count": 52,
   "id": "52006d6e-f9e7-4b66-abfb-25978c6bc065",
   "metadata": {},
   "outputs": [],
   "source": [
    "#comparitively if we see array occupy less space"
   ]
  },
  {
   "cell_type": "code",
   "execution_count": 54,
   "id": "aef7fe45-6802-4495-8222-f9b76ea30500",
   "metadata": {},
   "outputs": [],
   "source": [
    "import time"
   ]
  },
  {
   "cell_type": "code",
   "execution_count": 58,
   "id": "443eb6ca-7472-4a98-9df6-dbd1c3bc3035",
   "metadata": {},
   "outputs": [
    {
     "name": "stdout",
     "output_type": "stream",
     "text": [
      "0.029871225357055664\n"
     ]
    }
   ],
   "source": [
    "#here we will check arrays are faster than lists\n",
    "x=range(100000)\n",
    "y=range(100000,200000)\n",
    "#list x ka hr hr y se connect kr rhe h\n",
    "start_time = time.time()\n",
    "c=[(x,y) for x,y in zip(x,y)]\n",
    "print(time.time()-start_time)"
   ]
  },
  {
   "cell_type": "code",
   "execution_count": 70,
   "id": "5439c169-02c2-4543-bd93-a5cf962c47bc",
   "metadata": {},
   "outputs": [
    {
     "name": "stdout",
     "output_type": "stream",
     "text": [
      "0.0009245872497558594\n"
     ]
    }
   ],
   "source": [
    "#now we will check time for array\n",
    "a=np.arange(100000)\n",
    "b=np.arange(100000,200000)\n",
    "start_time=time.time()\n",
    "c=a+b\n",
    "print(time.time()-start_time)\n",
    "#so as we can see array takes less time"
   ]
  },
  {
   "cell_type": "code",
   "execution_count": null,
   "id": "e7db9c45-fa57-40ba-b6a3-2d45c4bcde87",
   "metadata": {},
   "outputs": [],
   "source": []
  }
 ],
 "metadata": {
  "kernelspec": {
   "display_name": "Python [conda env:base] *",
   "language": "python",
   "name": "conda-base-py"
  },
  "language_info": {
   "codemirror_mode": {
    "name": "ipython",
    "version": 3
   },
   "file_extension": ".py",
   "mimetype": "text/x-python",
   "name": "python",
   "nbconvert_exporter": "python",
   "pygments_lexer": "ipython3",
   "version": "3.12.7"
  }
 },
 "nbformat": 4,
 "nbformat_minor": 5
}
