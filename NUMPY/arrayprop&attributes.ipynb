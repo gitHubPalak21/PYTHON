{
 "cells": [
  {
   "cell_type": "markdown",
   "id": "24fc9f8e-d515-4aca-972b-6df16077991e",
   "metadata": {},
   "source": [
    "# Numpy Array properties and attributes"
   ]
  },
  {
   "cell_type": "code",
   "execution_count": 6,
   "id": "fcdb55ae-5637-47bc-9bdf-3aaa34545baf",
   "metadata": {},
   "outputs": [],
   "source": [
    "#shape\n",
    "#nDim\n",
    "#Size\n",
    "#itemSize\n",
    "#Dtype\n",
    "#astype()\n",
    "import numpy as np\n"
   ]
  },
  {
   "cell_type": "code",
   "execution_count": 12,
   "id": "b1fcce9a-d725-4217-93a6-fa4aa20feaee",
   "metadata": {},
   "outputs": [
    {
     "data": {
      "text/plain": [
       "(5,)"
      ]
     },
     "execution_count": 12,
     "metadata": {},
     "output_type": "execute_result"
    }
   ],
   "source": [
    "arr1=np.array([1,2,3,4,4])\n",
    "arr2= np.array([[1,2,3,4],[4,4,3,2]])\n",
    "arr1\n",
    "arr1.shape"
   ]
  },
  {
   "cell_type": "code",
   "execution_count": 18,
   "id": "5faea9da-875e-4aaa-bd17-0b8fea548b15",
   "metadata": {},
   "outputs": [
    {
     "data": {
      "text/plain": [
       "1"
      ]
     },
     "execution_count": 18,
     "metadata": {},
     "output_type": "execute_result"
    }
   ],
   "source": [
    "#ndim is an attribute tbhi uske aage hmne bracket nhi lagaya\n",
    "arr1.ndim\n",
    "arr2.ndim"
   ]
  },
  {
   "cell_type": "code",
   "execution_count": 20,
   "id": "bb89609a-95d2-4127-aabf-d21bb4f18f11",
   "metadata": {},
   "outputs": [
    {
     "data": {
      "text/plain": [
       "5"
      ]
     },
     "execution_count": 20,
     "metadata": {},
     "output_type": "execute_result"
    }
   ],
   "source": [
    "arr1.size\n"
   ]
  },
  {
   "cell_type": "code",
   "execution_count": 24,
   "id": "ac55b77a-d67f-4137-8b29-685e914115c4",
   "metadata": {},
   "outputs": [
    {
     "data": {
      "text/plain": [
       "4"
      ]
     },
     "execution_count": 24,
     "metadata": {},
     "output_type": "execute_result"
    }
   ],
   "source": [
    "#it removes the duplicate elemt and then it calculate\n",
    "arr1.itemsize\n"
   ]
  },
  {
   "cell_type": "code",
   "execution_count": 26,
   "id": "a831c7ba-a849-4628-b493-2a8405ff0663",
   "metadata": {},
   "outputs": [
    {
     "data": {
      "text/plain": [
       "dtype('int32')"
      ]
     },
     "execution_count": 26,
     "metadata": {},
     "output_type": "execute_result"
    }
   ],
   "source": [
    "arr1.dtype"
   ]
  },
  {
   "cell_type": "code",
   "execution_count": 28,
   "id": "3d634ea1-79ac-4162-9f21-22790bfc2e35",
   "metadata": {},
   "outputs": [
    {
     "data": {
      "text/plain": [
       "array([1., 2., 3., 4., 4.])"
      ]
     },
     "execution_count": 28,
     "metadata": {},
     "output_type": "execute_result"
    }
   ],
   "source": [
    "arr1.astype('float')"
   ]
  },
  {
   "cell_type": "code",
   "execution_count": null,
   "id": "1341747e-dabb-47cb-8c2a-a047c241e8a5",
   "metadata": {},
   "outputs": [],
   "source": []
  }
 ],
 "metadata": {
  "kernelspec": {
   "display_name": "Python [conda env:base] *",
   "language": "python",
   "name": "conda-base-py"
  },
  "language_info": {
   "codemirror_mode": {
    "name": "ipython",
    "version": 3
   },
   "file_extension": ".py",
   "mimetype": "text/x-python",
   "name": "python",
   "nbconvert_exporter": "python",
   "pygments_lexer": "ipython3",
   "version": "3.12.7"
  }
 },
 "nbformat": 4,
 "nbformat_minor": 5
}
