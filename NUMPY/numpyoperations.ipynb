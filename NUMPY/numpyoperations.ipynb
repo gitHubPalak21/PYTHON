{
 "cells": [
  {
   "cell_type": "markdown",
   "id": "c561f734-6e17-4ccd-8898-2eff1c62959f",
   "metadata": {},
   "source": [
    "# Numpy operations"
   ]
  },
  {
   "cell_type": "code",
   "execution_count": 1,
   "id": "78b43bb3-18ee-42d7-a988-326a57c74e3d",
   "metadata": {},
   "outputs": [],
   "source": [
    "import numpy as np "
   ]
  },
  {
   "cell_type": "code",
   "execution_count": 3,
   "id": "9c31037e-807e-4374-887c-6bb0790d90e4",
   "metadata": {},
   "outputs": [],
   "source": [
    "arr1=np.array([2,4,5,6,4,3])\n",
    "arr2=np.array([2,4,5,6,4,9])"
   ]
  },
  {
   "cell_type": "code",
   "execution_count": 5,
   "id": "792364a3-a416-4c7a-8cbd-55bfc23f3eeb",
   "metadata": {},
   "outputs": [
    {
     "data": {
      "text/plain": [
       "array([ 4, 16, 25, 36, 16, 27])"
      ]
     },
     "execution_count": 5,
     "metadata": {},
     "output_type": "execute_result"
    }
   ],
   "source": [
    "arr1*arr2"
   ]
  },
  {
   "cell_type": "code",
   "execution_count": 7,
   "id": "fff4f0fa-eccd-4821-a7ad-2e9c2614c7dc",
   "metadata": {},
   "outputs": [
    {
     "data": {
      "text/plain": [
       "array([ 6, 12, 15, 18, 12,  9])"
      ]
     },
     "execution_count": 7,
     "metadata": {},
     "output_type": "execute_result"
    }
   ],
   "source": [
    "arr1*3"
   ]
  },
  {
   "cell_type": "code",
   "execution_count": 9,
   "id": "37514c7b-b3e9-4ffa-aeea-633983c8724a",
   "metadata": {},
   "outputs": [
    {
     "data": {
      "text/plain": [
       "array([ 0,  0,  0,  0,  0, -6])"
      ]
     },
     "execution_count": 9,
     "metadata": {},
     "output_type": "execute_result"
    }
   ],
   "source": [
    "arr1-arr2"
   ]
  },
  {
   "cell_type": "code",
   "execution_count": 11,
   "id": "fb6d168a-0afb-4935-8d11-b2460022cd49",
   "metadata": {},
   "outputs": [
    {
     "data": {
      "text/plain": [
       "array([False, False, False, False, False, False])"
      ]
     },
     "execution_count": 11,
     "metadata": {},
     "output_type": "execute_result"
    }
   ],
   "source": [
    "arr2>9"
   ]
  },
  {
   "cell_type": "code",
   "execution_count": 13,
   "id": "dabba439-25c4-4f95-b5a2-d8d50243a24f",
   "metadata": {},
   "outputs": [],
   "source": [
    " arr3=np.arange(6).reshape(2,3)\n",
    " arr4=np.arange(6,12).reshape(3,2)"
   ]
  },
  {
   "cell_type": "code",
   "execution_count": 15,
   "id": "65d1db2a-8bdd-4de9-8e61-a2c91937d323",
   "metadata": {},
   "outputs": [
    {
     "data": {
      "text/plain": [
       "array([[ 28,  31],\n",
       "       [100, 112]])"
      ]
     },
     "execution_count": 15,
     "metadata": {},
     "output_type": "execute_result"
    }
   ],
   "source": [
    "arr3.dot(arr4)"
   ]
  },
  {
   "cell_type": "code",
   "execution_count": 28,
   "id": "72312776-d636-45ba-b503-f276a5346383",
   "metadata": {},
   "outputs": [
    {
     "name": "stdout",
     "output_type": "stream",
     "text": [
      "5\n"
     ]
    }
   ],
   "source": [
    "print(arr3.max())"
   ]
  },
  {
   "cell_type": "code",
   "execution_count": 30,
   "id": "e8808375-44c2-4332-bf1d-6ad3b1b356a4",
   "metadata": {},
   "outputs": [
    {
     "name": "stdout",
     "output_type": "stream",
     "text": [
      "0\n"
     ]
    }
   ],
   "source": [
    "print(arr3.min())"
   ]
  },
  {
   "cell_type": "code",
   "execution_count": 34,
   "id": "75cc7834-cb09-420b-9f71-32bdbdeaf7e1",
   "metadata": {},
   "outputs": [
    {
     "data": {
      "text/plain": [
       "array([6, 7])"
      ]
     },
     "execution_count": 34,
     "metadata": {},
     "output_type": "execute_result"
    }
   ],
   "source": [
    "#to know column wise maximum\n",
    "arr4.min(axis=0)"
   ]
  },
  {
   "cell_type": "code",
   "execution_count": 36,
   "id": "6d9e1830-566b-4491-b484-eab340592686",
   "metadata": {},
   "outputs": [
    {
     "data": {
      "text/plain": [
       "array([ 6,  8, 10])"
      ]
     },
     "execution_count": 36,
     "metadata": {},
     "output_type": "execute_result"
    }
   ],
   "source": [
    "#to know row wise maximum\n",
    "arr4.min(axis=1)"
   ]
  },
  {
   "cell_type": "code",
   "execution_count": 38,
   "id": "535816d6-277d-4bb5-8cc1-5dbe15b0d6f0",
   "metadata": {},
   "outputs": [
    {
     "data": {
      "text/plain": [
       "array([24, 27])"
      ]
     },
     "execution_count": 38,
     "metadata": {},
     "output_type": "execute_result"
    }
   ],
   "source": [
    "#column sum\n",
    "arr4.sum(axis=0)"
   ]
  },
  {
   "cell_type": "code",
   "execution_count": 40,
   "id": "1492a8ec-8738-4aef-9f04-bfda2382c3f2",
   "metadata": {},
   "outputs": [
    {
     "data": {
      "text/plain": [
       "array([13, 17, 21])"
      ]
     },
     "execution_count": 40,
     "metadata": {},
     "output_type": "execute_result"
    }
   ],
   "source": [
    "#row sum\n",
    "arr4.sum(axis=1)"
   ]
  },
  {
   "cell_type": "code",
   "execution_count": 42,
   "id": "d2148891-db39-4367-aade-32d637e13530",
   "metadata": {},
   "outputs": [
    {
     "data": {
      "text/plain": [
       "8.5"
      ]
     },
     "execution_count": 42,
     "metadata": {},
     "output_type": "execute_result"
    }
   ],
   "source": [
    "arr4.mean()\n"
   ]
  },
  {
   "cell_type": "code",
   "execution_count": 44,
   "id": "2070eb30-a24d-4a69-a42d-583787e87d92",
   "metadata": {},
   "outputs": [
    {
     "data": {
      "text/plain": [
       "1.707825127659933"
      ]
     },
     "execution_count": 44,
     "metadata": {},
     "output_type": "execute_result"
    }
   ],
   "source": [
    "arr4.std()"
   ]
  },
  {
   "cell_type": "code",
   "execution_count": 46,
   "id": "19351159-e7b5-4e0f-9de3-c31c0dd2b32a",
   "metadata": {},
   "outputs": [
    {
     "data": {
      "text/plain": [
       "array([[-0.2794155 ,  0.6569866 ],\n",
       "       [ 0.98935825,  0.41211849],\n",
       "       [-0.54402111, -0.99999021]])"
      ]
     },
     "execution_count": 46,
     "metadata": {},
     "output_type": "execute_result"
    }
   ],
   "source": [
    "np.sin(arr4)"
   ]
  },
  {
   "cell_type": "code",
   "execution_count": 48,
   "id": "3402b960-a486-4012-a8f6-e08993feb4e5",
   "metadata": {},
   "outputs": [
    {
     "data": {
      "text/plain": [
       "array([[  403.42879349,  1096.63315843],\n",
       "       [ 2980.95798704,  8103.08392758],\n",
       "       [22026.46579481, 59874.1417152 ]])"
      ]
     },
     "execution_count": 48,
     "metadata": {},
     "output_type": "execute_result"
    }
   ],
   "source": [
    "np.exp(arr4)"
   ]
  },
  {
   "cell_type": "markdown",
   "id": "c241a20f-bd35-4041-a93f-ba51e29ef5d6",
   "metadata": {},
   "source": [
    "# Reshaping Numpy arrays\n"
   ]
  },
  {
   "cell_type": "code",
   "execution_count": 51,
   "id": "030320f8-b7c9-494a-a3a8-1b08a7a8037e",
   "metadata": {},
   "outputs": [
    {
     "data": {
      "text/plain": [
       "array([ 6,  7,  8,  9, 10, 11])"
      ]
     },
     "execution_count": 51,
     "metadata": {},
     "output_type": "execute_result"
    }
   ],
   "source": [
    "#convert to one dimension\n",
    "arr4.ravel()"
   ]
  },
  {
   "cell_type": "code",
   "execution_count": 53,
   "id": "795bb679-0878-43c0-be81-2596ece30d2c",
   "metadata": {},
   "outputs": [
    {
     "data": {
      "text/plain": [
       "array([[ 6,  8, 10],\n",
       "       [ 7,  9, 11]])"
      ]
     },
     "execution_count": 53,
     "metadata": {},
     "output_type": "execute_result"
    }
   ],
   "source": [
    "arr4.transpose()"
   ]
  },
  {
   "cell_type": "code",
   "execution_count": 57,
   "id": "756793e8-6dc5-471a-ab94-32dfca2a8595",
   "metadata": {},
   "outputs": [],
   "source": [
    "arr5=np.arange(12,18).reshape(2,3)"
   ]
  },
  {
   "cell_type": "code",
   "execution_count": 59,
   "id": "2ca2f9af-5fc6-4af4-9192-ecd1087bea53",
   "metadata": {},
   "outputs": [
    {
     "data": {
      "text/plain": [
       "array([[ 0,  1,  2, 12, 13, 14],\n",
       "       [ 3,  4,  5, 15, 16, 17]])"
      ]
     },
     "execution_count": 59,
     "metadata": {},
     "output_type": "execute_result"
    }
   ],
   "source": [
    "np.hstack((arr3,arr5))"
   ]
  },
  {
   "cell_type": "code",
   "execution_count": 61,
   "id": "e042e104-8e97-4db2-8636-0d7f26893c10",
   "metadata": {},
   "outputs": [
    {
     "data": {
      "text/plain": [
       "array([[ 0,  1,  2],\n",
       "       [ 3,  4,  5],\n",
       "       [12, 13, 14],\n",
       "       [15, 16, 17]])"
      ]
     },
     "execution_count": 61,
     "metadata": {},
     "output_type": "execute_result"
    }
   ],
   "source": [
    "np.vstack((arr3,arr5))"
   ]
  },
  {
   "cell_type": "code",
   "execution_count": 63,
   "id": "868a1199-145a-44fb-b09b-4b107b0f9f68",
   "metadata": {},
   "outputs": [
    {
     "data": {
      "text/plain": [
       "[array([[0],\n",
       "        [3]]),\n",
       " array([[1],\n",
       "        [4]]),\n",
       " array([[2],\n",
       "        [5]])]"
      ]
     },
     "execution_count": 63,
     "metadata": {},
     "output_type": "execute_result"
    }
   ],
   "source": [
    "np.hsplit(arr3,3)"
   ]
  },
  {
   "cell_type": "markdown",
   "id": "6e3858bf-6a2e-4ebe-8deb-8ea2a0c6353a",
   "metadata": {},
   "source": [
    "# Fancy indexing"
   ]
  },
  {
   "cell_type": "code",
   "execution_count": 66,
   "id": "11b60df0-dd7f-4227-9a45-f93e7923c374",
   "metadata": {},
   "outputs": [],
   "source": [
    "arr8=np.arange(24).reshape(6,4)"
   ]
  },
  {
   "cell_type": "code",
   "execution_count": 68,
   "id": "02099193-2a06-4103-819f-eb4ca9b19c51",
   "metadata": {},
   "outputs": [
    {
     "data": {
      "text/plain": [
       "array([[ 0,  1,  2,  3],\n",
       "       [ 4,  5,  6,  7],\n",
       "       [ 8,  9, 10, 11],\n",
       "       [12, 13, 14, 15],\n",
       "       [16, 17, 18, 19],\n",
       "       [20, 21, 22, 23]])"
      ]
     },
     "execution_count": 68,
     "metadata": {},
     "output_type": "execute_result"
    }
   ],
   "source": [
    "arr8"
   ]
  },
  {
   "cell_type": "code",
   "execution_count": 70,
   "id": "abcbf37f-7575-446e-b602-97301d717c6d",
   "metadata": {},
   "outputs": [
    {
     "data": {
      "text/plain": [
       "array([[ 0,  1,  2,  3],\n",
       "       [ 8,  9, 10, 11],\n",
       "       [16, 17, 18, 19]])"
      ]
     },
     "execution_count": 70,
     "metadata": {},
     "output_type": "execute_result"
    }
   ],
   "source": [
    "arr8[[0,2,4]]"
   ]
  },
  {
   "cell_type": "markdown",
   "id": "d9ed1e0b-b549-4aff-ad2d-a28d66d2b2a8",
   "metadata": {},
   "source": [
    "# indexing using boolean arrays"
   ]
  },
  {
   "cell_type": "code",
   "execution_count": 89,
   "id": "16d65b4a-3933-4715-a03c-eb1e3d71fca0",
   "metadata": {},
   "outputs": [
    {
     "data": {
      "text/plain": [
       "array([[85, 16, 27, 29, 46],\n",
       "       [74, 64, 83, 59, 29],\n",
       "       [92, 80, 49, 15, 71],\n",
       "       [30, 82,  6, 60, 26]])"
      ]
     },
     "execution_count": 89,
     "metadata": {},
     "output_type": "execute_result"
    }
   ],
   "source": [
    "arr34=np.random.randint(low=1,high=100,size=20).reshape(4,5)\n",
    "arr34"
   ]
  },
  {
   "cell_type": "code",
   "execution_count": 91,
   "id": "6d3efbcf-2aa0-427b-bc63-91e39c9ae31c",
   "metadata": {},
   "outputs": [],
   "source": [
    "#inddexing using boolean array"
   ]
  },
  {
   "cell_type": "code",
   "execution_count": 95,
   "id": "e96ff920-31e0-4dea-87eb-d3bc503253f1",
   "metadata": {},
   "outputs": [
    {
     "data": {
      "text/plain": [
       "array([85, 74, 64, 83, 59, 92, 80, 71, 82, 60])"
      ]
     },
     "execution_count": 95,
     "metadata": {},
     "output_type": "execute_result"
    }
   ],
   "source": [
    "arr34[arr34>50]"
   ]
  },
  {
   "cell_type": "code",
   "execution_count": null,
   "id": "9da7f336-a363-4fd6-8008-f7d901bab5d6",
   "metadata": {},
   "outputs": [],
   "source": [
    "arr[(arr34>50) & (arr34%2!=0)]"
   ]
  }
 ],
 "metadata": {
  "kernelspec": {
   "display_name": "Python [conda env:base] *",
   "language": "python",
   "name": "conda-base-py"
  },
  "language_info": {
   "codemirror_mode": {
    "name": "ipython",
    "version": 3
   },
   "file_extension": ".py",
   "mimetype": "text/x-python",
   "name": "python",
   "nbconvert_exporter": "python",
   "pygments_lexer": "ipython3",
   "version": "3.12.7"
  }
 },
 "nbformat": 4,
 "nbformat_minor": 5
}
